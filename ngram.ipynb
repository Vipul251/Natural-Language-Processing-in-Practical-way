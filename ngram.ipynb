{
  "nbformat": 4,
  "nbformat_minor": 0,
  "metadata": {
    "colab": {
      "provenance": [],
      "authorship_tag": "ABX9TyOsCwoNupWKo7ImsqeT/8Ht",
      "include_colab_link": true
    },
    "kernelspec": {
      "name": "python3",
      "display_name": "Python 3"
    },
    "language_info": {
      "name": "python"
    }
  },
  "cells": [
    {
      "cell_type": "markdown",
      "metadata": {
        "id": "view-in-github",
        "colab_type": "text"
      },
      "source": [
        "<a href=\"https://colab.research.google.com/github/Vipul251/Natural-Language-Processing-in-Practical-way/blob/main/ngram.ipynb\" target=\"_parent\"><img src=\"https://colab.research.google.com/assets/colab-badge.svg\" alt=\"Open In Colab\"/></a>"
      ]
    },
    {
      "cell_type": "code",
      "execution_count": null,
      "metadata": {
        "colab": {
          "base_uri": "https://localhost:8080/"
        },
        "id": "Q-53DKRcIvHN",
        "outputId": "f7529a53-5d9e-42ea-befb-0473dae9d6e8"
      },
      "outputs": [
        {
          "output_type": "stream",
          "name": "stdout",
          "text": [
            "Requirement already satisfied: nltk in /usr/local/lib/python3.10/dist-packages (3.8.1)\n",
            "Requirement already satisfied: click in /usr/local/lib/python3.10/dist-packages (from nltk) (8.1.7)\n",
            "Requirement already satisfied: joblib in /usr/local/lib/python3.10/dist-packages (from nltk) (1.4.0)\n",
            "Requirement already satisfied: regex>=2021.8.3 in /usr/local/lib/python3.10/dist-packages (from nltk) (2023.12.25)\n",
            "Requirement already satisfied: tqdm in /usr/local/lib/python3.10/dist-packages (from nltk) (4.66.2)\n"
          ]
        }
      ],
      "source": [
        "!pip install nltk\n",
        "import nltk"
      ]
    },
    {
      "cell_type": "code",
      "source": [
        "nltk.download('punkt')"
      ],
      "metadata": {
        "colab": {
          "base_uri": "https://localhost:8080/"
        },
        "id": "9yYFQ7x-JBmQ",
        "outputId": "7680061f-54f5-4330-8607-b20ebc5010dd"
      },
      "execution_count": null,
      "outputs": [
        {
          "output_type": "stream",
          "name": "stderr",
          "text": [
            "[nltk_data] Downloading package punkt to /root/nltk_data...\n",
            "[nltk_data]   Unzipping tokenizers/punkt.zip.\n"
          ]
        },
        {
          "output_type": "execute_result",
          "data": {
            "text/plain": [
              "True"
            ]
          },
          "metadata": {},
          "execution_count": 6
        }
      ]
    },
    {
      "cell_type": "code",
      "source": [
        "import nltk\n",
        "from nltk import ngrams\n",
        "from collections import defaultdict, Counter\n",
        "\n",
        "class NGramModel:\n",
        "    def __init__(self, n):\n",
        "        self.n = n\n",
        "        self.ngram_counts = defaultdict(Counter)\n",
        "        self.context_counts = defaultdict(int)\n",
        "\n",
        "    def train(self, corpus):\n",
        "        for sentence in corpus:\n",
        "            tokens = nltk.word_tokenize(sentence.lower())\n",
        "            for ngram in ngrams(tokens, self.n, pad_left=True, pad_right=True, left_pad_symbol='<s>', right_pad_symbol='</s>'):\n",
        "                context = tuple(ngram[:-1])\n",
        "                word = ngram[-1]\n",
        "                self.ngram_counts[context][word] += 1\n",
        "                self.context_counts[context] += 1\n",
        "\n",
        "    def probability(self, context, word):\n",
        "        if self.context_counts[context] == 0:\n",
        "            return 0\n",
        "        return self.ngram_counts[context][word] / self.context_counts[context]\n",
        "\n",
        "    def generate(self, context, max_words=20):\n",
        "        generated_text = list(context)\n",
        "        for _ in range(max_words):\n",
        "            context = tuple(generated_text[-self.n+1:])\n",
        "            if context not in self.context_counts:\n",
        "                break\n",
        "            probabilities = [(word, self.probability(context, word)) for word in self.ngram_counts[context]]\n",
        "            word = max(probabilities, key=lambda x: x[1])[0]\n",
        "            if word == '</s>':\n",
        "                break\n",
        "            generated_text.append(word)\n",
        "        return ' '.join(generated_text)\n",
        "\n",
        "corpus = [\n",
        "    \"This is a sample sentence.\",\n",
        "    \"This is another sample sentence.\", n\n",
        "    \"Yet another sample sentence.\"\n",
        "]\n",
        "model = NGramModel(n=3)\n",
        "\n",
        "model.train(corpus)\n",
        "\n",
        "context = (\"<s>\", \"this\", \"is\")\n",
        "generated_text = model.generate(context)\n",
        "print(\"Generated Text:\")\n",
        "print(generated_text)"
      ],
      "metadata": {
        "colab": {
          "base_uri": "https://localhost:8080/"
        },
        "id": "AM2UykqGI6Tl",
        "outputId": "7601f511-b136-4f64-ffeb-4c7d7d4ca21b"
      },
      "execution_count": null,
      "outputs": [
        {
          "output_type": "stream",
          "name": "stdout",
          "text": [
            "Generated Text:\n",
            "<s> this is a sample sentence .\n"
          ]
        }
      ]
    }
  ]
}