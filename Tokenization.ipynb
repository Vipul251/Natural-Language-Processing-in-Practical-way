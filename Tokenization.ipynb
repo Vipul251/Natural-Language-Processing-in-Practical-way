{
  "nbformat": 4,
  "nbformat_minor": 0,
  "metadata": {
    "colab": {
      "provenance": [],
      "authorship_tag": "ABX9TyNR3SRf3lKSR0jpSPJUWyY0",
      "include_colab_link": true
    },
    "kernelspec": {
      "name": "python3",
      "display_name": "Python 3"
    },
    "language_info": {
      "name": "python"
    }
  },
  "cells": [
    {
      "cell_type": "markdown",
      "metadata": {
        "id": "view-in-github",
        "colab_type": "text"
      },
      "source": [
        "<a href=\"https://colab.research.google.com/github/Vipul251/Natural-Language-Processing-in-Practical-way/blob/main/Tokenization.ipynb\" target=\"_parent\"><img src=\"https://colab.research.google.com/assets/colab-badge.svg\" alt=\"Open In Colab\"/></a>"
      ]
    },
    {
      "cell_type": "code",
      "execution_count": 1,
      "metadata": {
        "id": "Y8jhmKmdg4sK"
      },
      "outputs": [],
      "source": [
        "import nltk\n"
      ]
    },
    {
      "cell_type": "code",
      "source": [
        "nltk.download('punkt')"
      ],
      "metadata": {
        "colab": {
          "base_uri": "https://localhost:8080/"
        },
        "id": "v8w96LQOhCcf",
        "outputId": "725b5262-4062-4fc9-f5af-a73339d72248"
      },
      "execution_count": 2,
      "outputs": [
        {
          "output_type": "stream",
          "name": "stderr",
          "text": [
            "[nltk_data] Downloading package punkt to /root/nltk_data...\n",
            "[nltk_data]   Unzipping tokenizers/punkt.zip.\n"
          ]
        },
        {
          "output_type": "execute_result",
          "data": {
            "text/plain": [
              "True"
            ]
          },
          "metadata": {},
          "execution_count": 2
        }
      ]
    },
    {
      "cell_type": "code",
      "source": [
        "text = \"This is a practical on different tokenization techniques in Natural Language Processing. Learn to evaluate how to effectively apply different tokenization techniques.\""
      ],
      "metadata": {
        "id": "AVw80MHMhHb-"
      },
      "execution_count": 9,
      "outputs": []
    },
    {
      "cell_type": "code",
      "source": [
        "word_tokens = nltk.word_tokenize(text)\n",
        "sentence_tokens = nltk.sent_tokenize(text)\n",
        "regex_tokens = nltk.regexp_tokenize(text, '\\\\s+')"
      ],
      "metadata": {
        "id": "9bNjat-1hNRw"
      },
      "execution_count": 10,
      "outputs": []
    },
    {
      "cell_type": "code",
      "source": [
        "print(word_tokens)"
      ],
      "metadata": {
        "colab": {
          "base_uri": "https://localhost:8080/"
        },
        "id": "CllT4Hc5hQ0B",
        "outputId": "50b4adaa-8f0c-49f1-f5f7-618d4ed9a833"
      },
      "execution_count": 5,
      "outputs": [
        {
          "output_type": "stream",
          "name": "stdout",
          "text": [
            "['This', 'is', 'a', 'practical', 'on', 'different', 'tokenization', 'techniques', 'in', 'Natural', 'Language', 'Processing', '.', 'This', 'is', 'the', 'final', 'lab', 'evaluation', '.']\n"
          ]
        }
      ]
    },
    {
      "cell_type": "code",
      "source": [
        "print(sentence_tokens)"
      ],
      "metadata": {
        "colab": {
          "base_uri": "https://localhost:8080/"
        },
        "id": "TtQgGHqWhUZ1",
        "outputId": "2c30b4d8-85d2-4d40-943e-0152821195f2"
      },
      "execution_count": 11,
      "outputs": [
        {
          "output_type": "stream",
          "name": "stdout",
          "text": [
            "['This is a practical on different tokenization techniques in Natural Language Processing.', 'Learn to evaluate how to effectively apply different tokenization techniques.']\n"
          ]
        }
      ]
    },
    {
      "cell_type": "code",
      "source": [
        "print(regex_tokens)"
      ],
      "metadata": {
        "colab": {
          "base_uri": "https://localhost:8080/"
        },
        "id": "5HHsqmQRIeOG",
        "outputId": "5c9df321-4f78-4a80-ad36-9c0afd0ada5b"
      },
      "execution_count": 12,
      "outputs": [
        {
          "output_type": "stream",
          "name": "stdout",
          "text": [
            "[' ', ' ', ' ', ' ', ' ', ' ', ' ', ' ', ' ', ' ', ' ', ' ', ' ', ' ', ' ', ' ', ' ', ' ', ' ', ' ', ' ']\n"
          ]
        }
      ]
    },
    {
      "cell_type": "code",
      "source": [
        "nltk.word_tokenize(text)"
      ],
      "metadata": {
        "colab": {
          "base_uri": "https://localhost:8080/"
        },
        "id": "vBWqvvN8jVd2",
        "outputId": "38930cf5-af05-4170-961f-85a7c4b47485"
      },
      "execution_count": 13,
      "outputs": [
        {
          "output_type": "execute_result",
          "data": {
            "text/plain": [
              "['This',\n",
              " 'is',\n",
              " 'a',\n",
              " 'practical',\n",
              " 'on',\n",
              " 'different',\n",
              " 'tokenization',\n",
              " 'techniques',\n",
              " 'in',\n",
              " 'Natural',\n",
              " 'Language',\n",
              " 'Processing',\n",
              " '.',\n",
              " 'Learn',\n",
              " 'to',\n",
              " 'evaluate',\n",
              " 'how',\n",
              " 'to',\n",
              " 'effectively',\n",
              " 'apply',\n",
              " 'different',\n",
              " 'tokenization',\n",
              " 'techniques',\n",
              " '.']"
            ]
          },
          "metadata": {},
          "execution_count": 13
        }
      ]
    },
    {
      "cell_type": "code",
      "source": [
        "import re\n",
        "pattern = r\"\\w+(?:[-']\\w+)*\"\n",
        "text = \"Hi there, my name is Vipul Bhatt.\"\n",
        "tokens = re.findall(pattern, text)\n",
        "print(tokens)"
      ],
      "metadata": {
        "colab": {
          "base_uri": "https://localhost:8080/"
        },
        "id": "aOP-qo6hjZXX",
        "outputId": "7f7e5117-9465-4b7e-a5c7-4028bc710067"
      },
      "execution_count": 14,
      "outputs": [
        {
          "output_type": "stream",
          "name": "stdout",
          "text": [
            "['Hi', 'there', 'my', 'name', 'is', 'Vipul', 'Bhatt']\n"
          ]
        }
      ]
    }
  ]
}