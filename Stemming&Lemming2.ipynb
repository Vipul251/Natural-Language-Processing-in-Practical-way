{
  "nbformat": 4,
  "nbformat_minor": 0,
  "metadata": {
    "colab": {
      "provenance": [],
      "authorship_tag": "ABX9TyO0lQsSGtQxamBwAskVmTQA",
      "include_colab_link": true
    },
    "kernelspec": {
      "name": "python3",
      "display_name": "Python 3"
    },
    "language_info": {
      "name": "python"
    }
  },
  "cells": [
    {
      "cell_type": "markdown",
      "metadata": {
        "id": "view-in-github",
        "colab_type": "text"
      },
      "source": [
        "<a href=\"https://colab.research.google.com/github/Vipul251/Natural-Language-Processing-in-Practical-way/blob/main/Stemming%26Lemming2.ipynb\" target=\"_parent\"><img src=\"https://colab.research.google.com/assets/colab-badge.svg\" alt=\"Open In Colab\"/></a>"
      ]
    },
    {
      "cell_type": "markdown",
      "source": [
        "# Implement the concepts of Stemming & Lemmatization.\n"
      ],
      "metadata": {
        "id": "BBT3AYRoqj7O"
      }
    },
    {
      "cell_type": "code",
      "source": [
        "import nltk"
      ],
      "metadata": {
        "id": "cb-Zs52qqpvn"
      },
      "execution_count": 6,
      "outputs": []
    },
    {
      "cell_type": "code",
      "source": [],
      "metadata": {
        "id": "OrYVdxt6P5jS"
      },
      "execution_count": null,
      "outputs": []
    },
    {
      "cell_type": "code",
      "source": [
        "#Simple Stemming\n",
        "from nltk.stem import PorterStemmer\n",
        "porter = PorterStemmer()\n",
        "words = ['likes','liked','liking','like']\n",
        "for word in words:\n",
        "    print(word,\"=\",porter.stem(word))"
      ],
      "metadata": {
        "colab": {
          "base_uri": "https://localhost:8080/"
        },
        "id": "wNWQrpbMJEHp",
        "outputId": "5cf9507e-0f8b-488f-ec83-576122df8f51"
      },
      "execution_count": 1,
      "outputs": [
        {
          "output_type": "stream",
          "name": "stdout",
          "text": [
            "likes = like\n",
            "liked = like\n",
            "liking = like\n",
            "like = like\n"
          ]
        }
      ]
    },
    {
      "cell_type": "code",
      "source": [
        "#Lancaster Stemming\n",
        "from nltk.stem import LancasterStemmer\n",
        "lancaster = LancasterStemmer()\n",
        "words = ['likes','liked','liking','like']\n",
        "for word in words:\n",
        "    print(word,\"--->\",lancaster.stem(word))"
      ],
      "metadata": {
        "colab": {
          "base_uri": "https://localhost:8080/"
        },
        "id": "TyRTKs5SkPtp",
        "outputId": "57e40da5-c55d-40d9-ab45-e14a259cd235"
      },
      "execution_count": 3,
      "outputs": [
        {
          "output_type": "stream",
          "name": "stdout",
          "text": [
            "likes ---> lik\n",
            "liked ---> lik\n",
            "liking ---> lik\n",
            "like ---> lik\n"
          ]
        }
      ]
    },
    {
      "cell_type": "code",
      "source": [
        "#Snowball Stemming\n",
        "from nltk.stem import SnowballStemmer\n",
        "snowball = SnowballStemmer(language='english')\n",
        "words = ['likes','liked','liking','like']\n",
        "for word in words:\n",
        "    print(word,\"--->\",snowball.stem(word))"
      ],
      "metadata": {
        "colab": {
          "base_uri": "https://localhost:8080/"
        },
        "id": "KCNV8plskTQW",
        "outputId": "04c490ca-ead6-4450-8f2e-656d6fd9776f"
      },
      "execution_count": 4,
      "outputs": [
        {
          "output_type": "stream",
          "name": "stdout",
          "text": [
            "likes ---> like\n",
            "liked ---> like\n",
            "liking ---> like\n",
            "like ---> like\n"
          ]
        }
      ]
    },
    {
      "cell_type": "code",
      "source": [
        "#Regexp Stemming\n",
        "from nltk.stem import RegexpStemmer\n",
        "regexp = RegexpStemmer('ing$|s$|e$', min=4)\n",
        "words =  ['likes','liked','liking','like']\n",
        "for word in words:\n",
        "    print(word,\"--->\",regexp.stem(word))"
      ],
      "metadata": {
        "colab": {
          "base_uri": "https://localhost:8080/"
        },
        "id": "Sm-wKe9XkWWP",
        "outputId": "c65c648f-3386-434a-c18c-34c2c7413aa6"
      },
      "execution_count": 2,
      "outputs": [
        {
          "output_type": "stream",
          "name": "stdout",
          "text": [
            "likes ---> like\n",
            "liked ---> liked\n",
            "liking ---> lik\n",
            "like ---> lik\n"
          ]
        }
      ]
    },
    {
      "cell_type": "code",
      "source": [
        "import nltk\n",
        "nltk.download('wordnet')\n",
        "from nltk.stem import WordNetLemmatizer\n",
        "\n",
        "lemmatizer = WordNetLemmatizer()\n",
        "print(\"Comme:\", lemmatizer.lemmatize(\"Comme\"))\n",
        "print(\"Coming:\", lemmatizer.lemmatize(\"Coming\"))\n",
        "print(\"Comes (adjective):\", lemmatizer.lemmatize(\"Comes\", pos=\"a\"))\n"
      ],
      "metadata": {
        "id": "l6GjEF9ZkZb1"
      },
      "execution_count": null,
      "outputs": []
    }
  ]
}